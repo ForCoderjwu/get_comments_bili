{
  "cells": [
    {
      "cell_type": "code",
      "execution_count": 1,
      "metadata": {
        "id": "Jgsafu5WikdV"
      },
      "outputs": [],
      "source": [
        "import requests\n",
        "import re\n",
        "import time\n",
        "import csv"
      ]
    },
    {
      "cell_type": "code",
      "execution_count": 6,
      "metadata": {
        "colab": {
          "base_uri": "https://localhost:8080/"
        },
        "id": "rOz3hY4qGbBA",
        "outputId": "af60c309-be18-4586-a4da-d9ea791a69be"
      },
      "outputs": [
        {
          "name": "stdout",
          "output_type": "stream",
          "text": [
            "{\"code\":-352,\"message\":\"-352\",\"ttl\":1}\n"
          ]
        }
      ],
      "source": [
        "# 实验，API，不可用，等待更新\n",
        "! curl -G 'https://api.bilibili.com/x/v2/reply/main' \\\n",
        "--data-urlencode 'type=1' \\\n",
        "--data-urlencode 'oid=2' \\\n",
        "--data-urlencode 'mode=3' \\\n",
        "--data-urlencode 'next=0' \\\n",
        "--data-urlencode 'ps=5' \\\n",
        "-b 'SESSDATA=fbda0bdc%2C1636301184%2C30180681'"
      ]
    },
    {
      "cell_type": "code",
      "execution_count": 2,
      "metadata": {
        "id": "zMW857fvZOF9"
      },
      "outputs": [],
      "source": [
        "#时间戳转换成日期\n",
        "def get_time(ctime):\n",
        "    timeArray = time.localtime(ctime)\n",
        "    otherStyleTime = time.strftime(\"%Y.%m.%d\", timeArray)\n",
        "    return str(otherStyleTime)\n",
        "\n",
        "#获取aid\n",
        "def get_aid(bvid):\n",
        "    video_url = 'https://api.bilibili.com/x/web-interface/view?bvid=' + bvid #最新的获取aid方式\n",
        "    page = requests.get(video_url, headers=header).text\n",
        "    aid = re.search(r'\"aid\":[0-9]+', page).group()[6:]\n",
        "    return aid"
      ]
    },
    {
      "cell_type": "markdown",
      "metadata": {
        "id": "u3HXDeSPRVO5"
      },
      "source": [
        "如何更改评论的API，以及获取更多的评论消息：  \n",
        "参考API网址：[GITHUB: B站API大全](https://github.com/SocialSisterYi/bilibili-API-collect/blob/master/docs/comment/list.md)"
      ]
    },
    {
      "cell_type": "code",
      "execution_count": 32,
      "metadata": {
        "id": "bPukA4IUiuHy"
      },
      "outputs": [],
      "source": [
        "#边爬取评论边保存文件\n",
        "def online_save(Bvid, max_pages:int = 999, fpath:str = '/home/'):\n",
        "    '''\n",
        "    这里必要的选项为：BVID —— 提供BVID的号码；\n",
        "    可选项:\n",
        "      max_pages: 最大获取的页数，每一页都是10个主评论\n",
        "      fpath: 文件储存地址，默认为linux中的/home文件夹\n",
        "    '''\n",
        "    #消息头信息\n",
        "    header={\n",
        "        'accept': 'text/html,application/xhtml+xml,application/xml;q=0.9,image/webp,image/apng,*/*;q=0.8',\n",
        "        'user-agent': 'Mozilla/5.0 (Windows NT 10.0; WOW64) AppleWebKit/537.36 (KHTML, like Gecko) Chrome/68.0.3440.106 Safari/537.36',\n",
        "    }\n",
        "\n",
        "    #评论API\n",
        "    api_url = 'https://api.bilibili.com/x/v2/reply'\n",
        "\n",
        "    #主params\n",
        "    params = {\n",
        "      'type': '1', #评论区类型代码，来源：https://github.com/SocialSisterYi/bilibili-API-collect/blob/master/docs/comment/readme.md#%E8%AF%84%E8%AE%BA%E5%8C%BA%E7%B1%BB%E5%9E%8B%E4%BB%A3%E7%A0%81\n",
        "      'oid': '', #目标评论区 id, 根据aid过来的\n",
        "      'sort': '1', # 排序方式（非必要，默认为0）  0：按时间 1：按点赞数 2：按回复数\n",
        "      'nohot': '1', #是否不显示热评（非必要，默认为0）1：不显示  0：显示\n",
        "      'ps': '10', #每页项数（非必要，默认为20  定义域：1-20）\n",
        "      'pn': '1' #页码（非必要，默认为1）\n",
        "    }\n",
        "\n",
        "    # 更新aid\n",
        "    params['oid'] = get_aid(Bvid)\n",
        "\n",
        "    # 获取HTML，换成json\n",
        "    html = requests.get(url = api_url, headers=header, params=params, cookies=cookies)\n",
        "    if html.status_code != 200: return 'BVID或者相关信息错误，无法打开HTML界面'\n",
        "    data = html.json()\n",
        "    try:\n",
        "        r_total_count = int(data['data']['page']['acount']) #评论总数\n",
        "    except:\n",
        "        return f\"无法读取格式，返回值为{data}\"\n",
        "\n",
        "\n",
        "    fname = Bvid + '_评论.csv'\n",
        "\n",
        "    page = 1\n",
        "    pointer_count = 0 #页数指示器\n",
        "    print(f'总评论数{r_total_count}，总共需要爬取{r_total_count//10 + 1}页，开始创建文件')\n",
        "    with open(fpath+fname, 'w', newline='', encoding='utf_8_sig') as f:\n",
        "        csv_writer=csv.writer(f)\n",
        "        csv_writer.writerow([\"时间\", \"点赞\", \"评论ID\",\"评论\"])\n",
        "        while pointer_count < (r_total_count//10 + 1) and pointer_count < max_pages:\n",
        "          for i in data['data']['replies']: #每一个大的replies中\n",
        "            try:\n",
        "              message=i['content']['message'] #其中的content为回复内容，message为信息\n",
        "              message = re.sub('\\s+', '', message) #去掉空格？\n",
        "              rpid = i['rpid']\n",
        "              ctime=get_time(i['ctime']) #时间（包括转换）\n",
        "              like=i['like'] #点赞数\n",
        "              csv_writer.writerow([ctime,str(like),rpid,message])\n",
        "            except Exception as e:\n",
        "              f.close()\n",
        "              raise e #任何的错误将会被返回\n",
        "          print('总评论数：{}，当前评论页数:{},当前Page已爬取完毕。'.format(r_total_count, pointer_count))\n",
        "\n",
        "          print('开始暂停5s，下一页准备')\n",
        "          time.sleep(5)\n",
        "\n",
        "          #开始进行api更新\n",
        "          params['pn'] = str(int(params['pn']) + 1)\n",
        "          html = requests.get(url = api_url, headers=header, params=params, cookies=cookies)\n",
        "          if html.status_code != 200:\n",
        "            f.close()\n",
        "            return 'BVID或者相关信息错误，无法打开HTML界面'\n",
        "          data = html.json()\n",
        "\n",
        "          pointer_count = pointer_count + 1\n",
        "        f.close()"
      ]
    },
    {
      "cell_type": "code",
      "execution_count": 30,
      "metadata": {
        "colab": {
          "base_uri": "https://localhost:8080/"
        },
        "id": "yekL609mjLab",
        "outputId": "db8e2c17-3189-48e9-cb53-9b5b0007b0e4"
      },
      "outputs": [
        {
          "name": "stdout",
          "output_type": "stream",
          "text": [
            "输入视频Bvid:BV1L5411J72C\n",
            "总评论数1836，总共需要爬取184页，开始创建文件\n",
            "10\n",
            "总评论数：1836，当前评论页数:0,当前Page已爬取完毕。\n",
            "开始暂停5s，下一页准备\n",
            "总评论数：1836，当前评论页数:1,当前Page已爬取完毕。\n",
            "开始暂停5s，下一页准备\n",
            "总评论数：1836，当前评论页数:2,当前Page已爬取完毕。\n",
            "开始暂停5s，下一页准备\n",
            "总评论数：1836，当前评论页数:3,当前Page已爬取完毕。\n",
            "开始暂停5s，下一页准备\n",
            "总评论数：1836，当前评论页数:4,当前Page已爬取完毕。\n",
            "开始暂停5s，下一页准备\n",
            "总评论数：1836，当前评论页数:5,当前Page已爬取完毕。\n",
            "开始暂停5s，下一页准备\n",
            "总评论数：1836，当前评论页数:6,当前Page已爬取完毕。\n",
            "开始暂停5s，下一页准备\n",
            "总评论数：1836，当前评论页数:7,当前Page已爬取完毕。\n",
            "开始暂停5s，下一页准备\n",
            "总评论数：1836，当前评论页数:8,当前Page已爬取完毕。\n",
            "开始暂停5s，下一页准备\n",
            "总评论数：1836，当前评论页数:9,当前Page已爬取完毕。\n",
            "开始暂停5s，下一页准备\n",
            "完成！\n"
          ]
        }
      ],
      "source": [
        "if __name__=='__main__':\n",
        "    Bvid=input('输入视频Bvid:')\n",
        "    online_save(Bvid, max_pages = 10)\n",
        "    print('完成！')"
      ]
    },
    {
      "cell_type": "code",
      "execution_count": null,
      "metadata": {
        "colab": {
          "base_uri": "https://localhost:8080/"
        },
        "id": "Gue6I4XXW4Vw",
        "outputId": "671812ea-de9e-479f-e547-7787610667af"
      },
      "outputs": [
        {
          "name": "stdout",
          "output_type": "stream",
          "text": [
            "458865803\n"
          ]
        }
      ],
      "source": [
        "video_url = 'BV1L5411J72C'\n",
        "page = requests.get(video_url, headers=header).text\n",
        "aid = re.search(r'\"aid\":[0-9]+', page).group()[6:]\n",
        "print(aid)"
      ]
    }
  ],
  "metadata": {
    "colab": {
      "provenance": []
    },
    "kernelspec": {
      "display_name": "Python 3",
      "name": "python3"
    },
    "language_info": {
      "codemirror_mode": {
        "name": "ipython",
        "version": 3
      },
      "file_extension": ".py",
      "mimetype": "text/x-python",
      "name": "python",
      "nbconvert_exporter": "python",
      "pygments_lexer": "ipython3",
      "version": "3.12.2"
    }
  },
  "nbformat": 4,
  "nbformat_minor": 0
}
